{
 "cells": [
  {
   "cell_type": "markdown",
   "metadata": {},
   "source": [
    "güven aralıgı=>\n",
    "anakütle parametresinin tahmini degerini kapsayabilecek iki sayıdan oluşan bir aralık bulunmasıdır.Diger bir tanım ise ölçümün hassasiyetinin bir gösterimidir.Yapmış oldugumuz ölçümlerin bir tahminini verir.\n"
   ]
  },
  {
   "attachments": {
    "7696127d-e863-4911-a646-e4fe7fc8e94e.png": {
     "image/png": "[encoded data removed]"
    }
   },
   "cell_type": "markdown",
   "metadata": {},
   "source": [
    "   **Güven Aralıgı Nasıl Hesaplanır** \n",
    "\n",
    "1.n,ortalama ve standart sapmayı bul\n",
    "\n",
    "2.güven aralıgına karar ver:95 mi 99 mu?\n",
    "  \n",
    "  z degerini hesapla\n",
    "3.yukarıda çıkan degerleri kullanarak güven aralıgını hesapla:\n",
    "  ![image.png](attachment:7696127d-e863-4911-a646-e4fe7fc8e94e.png)"
   ]
  },
  {
   "cell_type": "code",
   "execution_count": null,
   "metadata": {},
   "outputs": [],
   "source": []
  },
  {
   "cell_type": "markdown",
   "metadata": {},
   "source": [
    "*İŞ UYGULAMASI:FİYAT STRATEJİSİ KARAR DESTEK SİSTEMİ "
   ]
  },
  {
   "cell_type": "markdown",
   "metadata": {},
   "source": [
    "#Problem=>CEO fiyat belirleme konusunda bilimsel bir dayanak ve esneklik istiyor\n",
    "\n",
    "details\n",
    "\n",
    ".Satıcı,alıcı ve bir ürün var\n",
    "\n",
    ".alıcılara ürüne ne kadar ücret öderdiniz diye soruluyor\n",
    "\n",
    ".optimum fiyat bilimsel ve esnek olarak bulunmak isteniyor"
   ]
  },
  {
   "cell_type": "code",
   "execution_count": null,
   "metadata": {},
   "outputs": [],
   "source": []
  },
  {
   "cell_type": "code",
   "execution_count": 3,
   "metadata": {},
   "outputs": [],
   "source": [
    "import numpy as np\n",
    "fiyatlar =np.random.randint(10,110,1000)"
   ]
  },
  {
   "cell_type": "code",
   "execution_count": 4,
   "metadata": {},
   "outputs": [
    {
     "data": {
      "text/plain": [
       "60.301"
      ]
     },
     "execution_count": 4,
     "metadata": {},
     "output_type": "execute_result"
    }
   ],
   "source": [
    "fiyatlar.mean()"
   ]
  },
  {
   "cell_type": "markdown",
   "metadata": {},
   "source": [
    "ödemeyi göze aldıkları fiyat "
   ]
  },
  {
   "cell_type": "code",
   "execution_count": 5,
   "metadata": {},
   "outputs": [],
   "source": [
    "#daha iyi fiyat aralıgı bulmaya çalışalım"
   ]
  },
  {
   "cell_type": "code",
   "execution_count": 6,
   "metadata": {},
   "outputs": [],
   "source": [
    "import statsmodels.stats.api as sms"
   ]
  },
  {
   "cell_type": "code",
   "execution_count": 8,
   "metadata": {},
   "outputs": [
    {
     "data": {
      "text/plain": [
       "(58.500012323064894, 62.10198767693511)"
      ]
     },
     "execution_count": 8,
     "metadata": {},
     "output_type": "execute_result"
    }
   ],
   "source": [
    "sms.DescrStatsW(fiyatlar).tconfint_mean()"
   ]
  },
  {
   "cell_type": "markdown",
   "metadata": {},
   "source": [
    "bu degerler ise belirlenmesi gereken en iyi fiyat aralıgıdır.hata payımız yüzde 5 tir"
   ]
  },
  {
   "cell_type": "code",
   "execution_count": null,
   "metadata": {},
   "outputs": [],
   "source": []
  }
 ],
 "metadata": {
  "kernelspec": {
   "display_name": "Python 3",
   "language": "python",
   "name": "python3"
  },
  "language_info": {
   "codemirror_mode": {
    "name": "ipython",
    "version": 3
   },
   "file_extension": ".py",
   "mimetype": "text/x-python",
   "name": "python",
   "nbconvert_exporter": "python",
   "pygments_lexer": "ipython3",
   "version": "3.8.3"
  }
 },
 "nbformat": 4,
 "nbformat_minor": 4
}
